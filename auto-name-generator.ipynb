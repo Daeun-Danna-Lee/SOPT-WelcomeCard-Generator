{
 "cells": [
  {
   "cell_type": "code",
   "execution_count": 1,
   "source": [
    "from PIL import Image, ImageDraw, ImageFont\n",
    "import textwrap\n",
    "import csv"
   ],
   "outputs": [],
   "metadata": {}
  },
  {
   "cell_type": "code",
   "execution_count": 2,
   "source": [
    "base_plan = Image.open('welcome-card-plan.png').convert(\"RGBA\")\n",
    "base_design = Image.open('welcome-card-design.png').convert(\"RGBA\")\n",
    "base_develop = Image.open('welcome-card-develop.png').convert(\"RGBA\")"
   ],
   "outputs": [],
   "metadata": {}
  },
  {
   "cell_type": "code",
   "execution_count": 8,
   "source": [
    "def make_image(part, name):\n",
    "    \n",
    "    # font setting\n",
    "    font_main = ImageFont.truetype('NotoSansKR-Bold.otf', size=30)\n",
    "    font_sub = ImageFont.truetype('NotoSansKR-Medium.otf', size=18)\n",
    "    font_color = 'rgb(255, 255, 255)'\n",
    "    \n",
    "    text = Image.new('RGBA', base_plan.size, (255,255,255,0))\n",
    "    draw = ImageDraw.Draw(text)\n",
    "    \n",
    "    # name 띄어쓰기\n",
    "    spaced_name = ' '.join(name)\n",
    "\n",
    "    # start position for text\n",
    "    x_text_main = (base_plan.size[0] - font_main.getsize(name)[0]) / 2 - 7\n",
    "    y_text_main = 320\n",
    "    x_text_sub_1 = 224\n",
    "    x_text_sub_2 = 240\n",
    "    x_text_sub_3 = 256\n",
    "    y_text_sub = 391\n",
    "    \n",
    "    draw.text((x_text_main, y_text_main), spaced_name, font=font_main, fill=font_color)\n",
    "    draw.text((x_text_sub_1, y_text_sub), name[0], font=font_sub, fill=font_color)\n",
    "    draw.text((x_text_sub_2, y_text_sub), name[1], font=font_sub, fill=font_color)\n",
    "    draw.text((x_text_sub_3, y_text_sub), name[2], font=font_sub, fill=font_color)\n",
    "    \n",
    "    if part == '기획':\n",
    "        out = Image.alpha_composite(base_plan, text)\n",
    "    elif part == '디자인':\n",
    "        out = Image.alpha_composite(base_design, text)\n",
    "    else:\n",
    "        out = Image.alpha_composite(base_develop, text)\n",
    "    \n",
    "#     out.show()\n",
    "        \n",
    "    # 안에 적은 내용을 파일 이름으로 저장\n",
    "    out.save('./웰컴카드/{}_{}.png'.format(part, name))"
   ],
   "outputs": [],
   "metadata": {}
  },
  {
   "cell_type": "code",
   "execution_count": 10,
   "source": [
    "# 명단 불러오기\n",
    "f = open('29기 전체 명단.csv', 'r')\n",
    "temp = csv.reader(f)\n",
    "\n",
    "# 웰컴카드 제작\n",
    "for row in temp:\n",
    "    if len(row[0]) == 3:\n",
    "        if row[1] == '기획':\n",
    "            make_image(\"기획\", row[0]) \n",
    "        elif row[1] == '디자인':\n",
    "            make_image(\"디자인\", row[0])\n",
    "        elif row[1] == '안드로이드':\n",
    "            make_image(\"안드로이드\", row[0])\n",
    "        elif row[1] == 'iOS':\n",
    "            make_image(\"iOS\", row[0])\n",
    "        elif row[1] == '웹':\n",
    "            make_image(\"웹\", row[0])\n",
    "        elif row[1] == '서버':\n",
    "            make_image(\"서버\", row[0])"
   ],
   "outputs": [],
   "metadata": {}
  }
 ],
 "metadata": {
  "kernelspec": {
   "display_name": "Python 3",
   "language": "python",
   "name": "python3"
  },
  "language_info": {
   "codemirror_mode": {
    "name": "ipython",
    "version": 3
   },
   "file_extension": ".py",
   "mimetype": "text/x-python",
   "name": "python",
   "nbconvert_exporter": "python",
   "pygments_lexer": "ipython3",
   "version": "3.8.8"
  }
 },
 "nbformat": 4,
 "nbformat_minor": 5
}